{
 "cells": [
  {
   "cell_type": "code",
   "execution_count": 1,
   "metadata": {
    "pycharm": {
     "is_executing": false
    }
   },
   "outputs": [],
   "source": [
    "import skimage as ski\n",
    "import numpy as np\n",
    "import openpyxl as xl\n",
    "import csv\n",
    "import os\n",
    "import xmltodict\n",
    "import pandas as pd"
   ]
  },
  {
   "cell_type": "code",
   "execution_count": 2,
   "metadata": {
    "pycharm": {
     "is_executing": false,
     "name": "#%%\n"
    }
   },
   "outputs": [
    {
     "data": {
      "text/plain": [
       "'\\nfor this typical ETL pattern, this notebook explores EXTRACT\\n\\n'"
      ]
     },
     "execution_count": 2,
     "metadata": {},
     "output_type": "execute_result"
    }
   ],
   "source": [
    "\n",
    "\"\"\"\n",
    "for this typical ETL pattern, this notebook explores EXTRACT\n",
    "\n",
    "\"\"\""
   ]
  },
  {
   "cell_type": "code",
   "execution_count": 4,
   "metadata": {
    "pycharm": {
     "is_executing": false,
     "name": "#%%\n"
    }
   },
   "outputs": [],
   "source": [
    "plate1_path='/Volumes/GoogleDrive/My Drive/ELISAarrayReader/images_scienion/2020-01-15_plate4_AEP_Feb3_6mousesera'\n",
    "# plate1_path = 'Plates_given_to_manu/2020-01-15_plate4_AEP_Feb3_6mousesera'\n",
    "plate1_gal = plate1_path+os.sep+'8x6_test.gal'\n",
    "plate1_xml = plate1_path+os.sep+'8x6_test.conf.xml'\n"
   ]
  },
  {
   "cell_type": "code",
   "execution_count": 3,
   "metadata": {
    "collapsed": true,
    "pycharm": {
     "is_executing": false,
     "name": "#%%\n"
    }
   },
   "outputs": [
    {
     "name": "stdout",
     "output_type": "stream",
     "text": [
      "['ATF', '1.0']\n",
      "['5', '5']\n",
      "['Type=GenePix ArrayList V1.0']\n",
      "['BlockCount=1']\n",
      "['BlockType=0']\n",
      "['Supplier=Scienion AG']\n",
      "['Block1= 1100, 1100, 200, 8, 405, 6, 410']\n",
      "['Block', 'Row', 'Column', 'ID', 'Name']\n",
      "['1', '1', '1', 'Marker', 'Marker']\n",
      "['1', '2', '1', 'Marker', 'Marker']\n",
      "['1', '3', '1', 'spot', 'spot']\n",
      "['1', '4', '1', 'spot', 'spot']\n",
      "['1', '5', '1', 'spot', 'spot']\n",
      "['1', '6', '1', 'Marker', 'Marker']\n",
      "['1', '1', '2', 'spot', 'spot']\n",
      "['1', '2', '2', 'spot', 'spot']\n",
      "['1', '3', '2', 'spot', 'spot']\n",
      "['1', '4', '2', 'spot', 'spot']\n",
      "['1', '5', '2', 'spot', 'spot']\n",
      "['1', '6', '2', 'spot', 'spot']\n",
      "['1', '1', '3', 'spot', 'spot']\n",
      "['1', '2', '3', 'spot', 'spot']\n",
      "['1', '3', '3', 'spot', 'spot']\n",
      "['1', '4', '3', 'spot', 'spot']\n",
      "['1', '5', '3', 'spot', 'spot']\n",
      "['1', '6', '3', 'spot', 'spot']\n",
      "['1', '1', '4', 'spot', 'spot']\n",
      "['1', '2', '4', 'spot', 'spot']\n",
      "['1', '3', '4', 'spot', 'spot']\n",
      "['1', '4', '4', 'spot', 'spot']\n",
      "['1', '5', '4', 'spot', 'spot']\n",
      "['1', '6', '4', 'spot', 'spot']\n",
      "['1', '1', '5', 'spot', 'spot']\n",
      "['1', '2', '5', 'spot', 'spot']\n",
      "['1', '3', '5', 'spot', 'spot']\n",
      "['1', '4', '5', 'spot', 'spot']\n",
      "['1', '5', '5', 'spot', 'spot']\n",
      "['1', '6', '5', 'spot', 'spot']\n",
      "['1', '1', '6', 'spot', 'spot']\n",
      "['1', '2', '6', 'spot', 'spot']\n",
      "['1', '3', '6', 'spot', 'spot']\n",
      "['1', '4', '6', 'spot', 'spot']\n",
      "['1', '5', '6', 'spot', 'spot']\n",
      "['1', '6', '6', 'spot', 'spot']\n",
      "['1', '1', '7', 'spot', 'spot']\n",
      "['1', '2', '7', 'spot', 'spot']\n",
      "['1', '3', '7', 'spot', 'spot']\n",
      "['1', '4', '7', 'spot', 'spot']\n",
      "['1', '5', '7', 'spot', 'spot']\n",
      "['1', '6', '7', 'spot', 'spot']\n",
      "['1', '1', '8', 'Marker', 'Marker']\n",
      "['1', '2', '8', 'Marker', 'Marker']\n",
      "['1', '3', '8', 'spot', 'spot']\n",
      "['1', '4', '8', 'spot', 'spot']\n",
      "['1', '5', '8', 'Marker', 'Marker']\n",
      "['1', '6', '8', 'Marker', 'Marker']\n"
     ]
    }
   ],
   "source": [
    "\"\"\"\n",
    "explore the .gal file\n",
    "\"\"\"\n",
    "# explore the data format, delimiter type\n",
    "with open(plate1_gal, newline='') as csv_file:\n",
    "    csv_reader = csv.reader(csv_file, delimiter='\\t')\n",
    "    for row in csv_reader:\n",
    "        print(row)"
   ]
  },
  {
   "cell_type": "code",
   "execution_count": 4,
   "metadata": {
    "pycharm": {
     "is_executing": false,
     "name": "#%%\n"
    }
   },
   "outputs": [],
   "source": [
    "\n",
    "# block starts as list, then will be cast to numpy array\n",
    "with open(plate1_gal, newline='') as csv_file:\n",
    "    csv_reader = csv.reader(csv_file, delimiter='\\t')\n",
    "    out_dict = {}\n",
    "    out_dict['Header'] = []\n",
    "    out_dict['Block'] = []\n",
    "    begin_block = False\n",
    "    for row in csv_reader:\n",
    "        if row[0] == 'Block':\n",
    "            begin_block = True\n",
    "        \n",
    "        # still reading header values\n",
    "        if not begin_block:\n",
    "            out_dict['Header'].append(row)\n",
    "            \n",
    "        # begin block (spot) mapping\n",
    "        if begin_block:\n",
    "            out_dict['Block'].append(row)"
   ]
  },
  {
   "cell_type": "code",
   "execution_count": 5,
   "metadata": {
    "collapsed": true,
    "pycharm": {
     "is_executing": false,
     "name": "#%%\n"
    }
   },
   "outputs": [
    {
     "data": {
      "text/plain": [
       "[['Block', 'Row', 'Column', 'ID', 'Name'],\n",
       " ['1', '1', '1', 'Marker', 'Marker'],\n",
       " ['1', '2', '1', 'Marker', 'Marker'],\n",
       " ['1', '3', '1', 'spot', 'spot'],\n",
       " ['1', '4', '1', 'spot', 'spot'],\n",
       " ['1', '5', '1', 'spot', 'spot'],\n",
       " ['1', '6', '1', 'Marker', 'Marker'],\n",
       " ['1', '1', '2', 'spot', 'spot'],\n",
       " ['1', '2', '2', 'spot', 'spot'],\n",
       " ['1', '3', '2', 'spot', 'spot'],\n",
       " ['1', '4', '2', 'spot', 'spot'],\n",
       " ['1', '5', '2', 'spot', 'spot'],\n",
       " ['1', '6', '2', 'spot', 'spot'],\n",
       " ['1', '1', '3', 'spot', 'spot'],\n",
       " ['1', '2', '3', 'spot', 'spot'],\n",
       " ['1', '3', '3', 'spot', 'spot'],\n",
       " ['1', '4', '3', 'spot', 'spot'],\n",
       " ['1', '5', '3', 'spot', 'spot'],\n",
       " ['1', '6', '3', 'spot', 'spot'],\n",
       " ['1', '1', '4', 'spot', 'spot'],\n",
       " ['1', '2', '4', 'spot', 'spot'],\n",
       " ['1', '3', '4', 'spot', 'spot'],\n",
       " ['1', '4', '4', 'spot', 'spot'],\n",
       " ['1', '5', '4', 'spot', 'spot'],\n",
       " ['1', '6', '4', 'spot', 'spot'],\n",
       " ['1', '1', '5', 'spot', 'spot'],\n",
       " ['1', '2', '5', 'spot', 'spot'],\n",
       " ['1', '3', '5', 'spot', 'spot'],\n",
       " ['1', '4', '5', 'spot', 'spot'],\n",
       " ['1', '5', '5', 'spot', 'spot'],\n",
       " ['1', '6', '5', 'spot', 'spot'],\n",
       " ['1', '1', '6', 'spot', 'spot'],\n",
       " ['1', '2', '6', 'spot', 'spot'],\n",
       " ['1', '3', '6', 'spot', 'spot'],\n",
       " ['1', '4', '6', 'spot', 'spot'],\n",
       " ['1', '5', '6', 'spot', 'spot'],\n",
       " ['1', '6', '6', 'spot', 'spot'],\n",
       " ['1', '1', '7', 'spot', 'spot'],\n",
       " ['1', '2', '7', 'spot', 'spot'],\n",
       " ['1', '3', '7', 'spot', 'spot'],\n",
       " ['1', '4', '7', 'spot', 'spot'],\n",
       " ['1', '5', '7', 'spot', 'spot'],\n",
       " ['1', '6', '7', 'spot', 'spot'],\n",
       " ['1', '1', '8', 'Marker', 'Marker'],\n",
       " ['1', '2', '8', 'Marker', 'Marker'],\n",
       " ['1', '3', '8', 'spot', 'spot'],\n",
       " ['1', '4', '8', 'spot', 'spot'],\n",
       " ['1', '5', '8', 'Marker', 'Marker'],\n",
       " ['1', '6', '8', 'Marker', 'Marker']]"
      ]
     },
     "execution_count": 5,
     "metadata": {},
     "output_type": "execute_result"
    }
   ],
   "source": [
    "out_dict['Block']\n"
   ]
  },
  {
   "cell_type": "code",
   "execution_count": 6,
   "metadata": {
    "pycharm": {
     "is_executing": false,
     "name": "#%%\n"
    }
   },
   "outputs": [],
   "source": [
    "# parse the index for various header values\n",
    "# ['Block', 'Row', 'Column', 'ID', 'Name']\n",
    "row_idx = [int(idx) for idx, value in enumerate(out_dict['Block'][0]) if value == 'Row'][0]\n",
    "col_idx = [int(idx) for idx, value in enumerate(out_dict['Block'][0]) if value == 'Column'][0]\n",
    "id_idx = [int(idx) for idx, value in enumerate(out_dict['Block'][0]) if value == 'ID'][0]\n",
    "name_idx = [int(idx) for idx, value in enumerate(out_dict['Block'][0]) if value == 'Name'][0]\n"
   ]
  },
  {
   "cell_type": "code",
   "execution_count": 7,
   "metadata": {
    "pycharm": {
     "is_executing": false,
     "name": "#%%\n"
    }
   },
   "outputs": [],
   "source": [
    "# find the max rows and cols\n",
    "max_row = 0\n",
    "max_col = 0\n",
    "for spot in out_dict['Block'][1:]:\n",
    "    if max_row < int(spot[row_idx]):\n",
    "        max_row = int(spot[row_idx])\n",
    "    if max_col < int(spot[col_idx]):\n",
    "        max_col = int(spot[col_idx])\n",
    "\n",
    "gal_spot_array_list_ID = [[[None] for i in range(max_col)] for j in range(max_row)]\n",
    "gal_spot_array_numpy_ID = np.empty(shape=(max_row, max_col), dtype=np.dtype('U100'))\n",
    "\n",
    "gal_spot_array_list_Name = [[[None] for i in range(max_col)] for j in range(max_row)]\n",
    "gal_spot_array_numpy_Name = np.empty(shape=(max_row, max_col), dtype=np.dtype('U100'))\n"
   ]
  },
  {
   "cell_type": "code",
   "execution_count": 8,
   "metadata": {
    "pycharm": {
     "is_executing": false,
     "name": "#%%\n"
    }
   },
   "outputs": [],
   "source": [
    "\n",
    "for spot in out_dict['Block'][1:]:\n",
    "    r = int(spot[row_idx])-1\n",
    "    c = int(spot[col_idx])-1\n",
    "    ID = spot[id_idx]\n",
    "    name = spot[name_idx]\n",
    "    \n",
    "    gal_spot_array_list_ID[r][c] = ID\n",
    "    gal_spot_array_numpy_ID[r, c] = ID\n",
    "    \n",
    "    gal_spot_array_list_Name[r][c] = name\n",
    "    gal_spot_array_numpy_Name[r, c] = name\n"
   ]
  },
  {
   "cell_type": "code",
   "execution_count": 5,
   "metadata": {
    "pycharm": {
     "is_executing": false,
     "name": "#%%\n"
    }
   },
   "outputs": [],
   "source": [
    "\"\"\"\n",
    "explore the .xml file\n",
    "\"\"\"\n",
    "\n",
    "# xmltodict is much easier to use and translate than xml.dom.minidom\n",
    "with open(plate1_xml) as fd:\n",
    "    doc = xmltodict.parse(fd.read())\n",
    "\n",
    "# layout of array\n",
    "layout = doc['configuration']['well_configurations']['configuration']['array']['layout']\n",
    "# fiducials\n",
    "fiduc = layout['marker']\n",
    "\n",
    "# spot IDs\n",
    "spots = doc['configuration']['well_configurations']['configuration']['array']['spots']['spot']\n",
    "\n",
    "# replicates\n",
    "repl = doc['configuration']['well_configurations']['configuration']['array']['spots']['multiplet']\n"
   ]
  },
  {
   "cell_type": "code",
   "execution_count": 6,
   "metadata": {
    "pycharm": {
     "is_executing": false,
     "name": "#%%\n"
    }
   },
   "outputs": [],
   "source": [
    "rows = int(layout['@rows'])\n",
    "columns = int(layout['@cols'])\n",
    "v_pitch = float(layout['@vspace'])\n",
    "h_pitch = float(layout['@hspace'])\n",
    "spot_width = float(layout['@expected_diameter'])\n",
    "bg_offset = float(layout['@background_offset'])\n",
    "bg_thickness = float(layout['@background_thickness'])\n",
    "max_diam = float(layout['@max_diameter'])\n",
    "min_diam = float(layout['@min_diameter'])"
   ]
  },
  {
   "cell_type": "code",
   "execution_count": 7,
   "metadata": {
    "pycharm": {
     "is_executing": false,
     "name": "#%%\n"
    }
   },
   "outputs": [],
   "source": [
    "\n",
    "# xml_spot_array_list = [[[None] for i in range(columns)] for j in range(rows)]\n",
    "xml_spot_array_numpy = np.empty(shape=(rows, columns), dtype=np.dtype('U100'))\n",
    "\n",
    "# xml_spot_array_list_ID = [[[None] for i in range(columns)] for j in range(rows)]\n",
    "xml_spot_array_numpy_ID = np.empty(shape=(rows, columns), dtype=np.dtype('U100'))\n",
    "\n",
    "# xml_spot_array_list_antigen = [[[None] for i in range(columns)] for j in range(rows)]\n",
    "xml_spot_array_numpy_antigen = np.empty(shape=(rows, columns), dtype=np.dtype('U100'))"
   ]
  },
  {
   "cell_type": "code",
   "execution_count": 8,
   "metadata": {
    "pycharm": {
     "is_executing": false,
     "name": "#%%\n"
    }
   },
   "outputs": [],
   "source": [
    "\n",
    "for spot in spots:\n",
    "    r = int(spot['@row'])\n",
    "    c = int(spot['@col'])\n",
    "    v = spot['@spot_type']\n",
    "    ID = spot['@id']\n",
    "    \n",
    "    xml_spot_array_list[r][c] = v\n",
    "    xml_spot_array_numpy[r,c] = v\n",
    "    \n",
    "    xml_spot_array_list_ID[r][c] = ID\n",
    "    xml_spot_array_numpy_ID[r,c] = ID\n",
    "\n",
    "for f in fiduc:\n",
    "    r = int(f['@row'])\n",
    "    c = int(f['@col'])\n",
    "    v = f['@spot_type']\n",
    "    # fiduc do not have \"ID\"\n",
    "\n",
    "    xml_spot_array_list[r][c] = v\n",
    "    xml_spot_array_numpy[r,c] = v\n"
   ]
  },
  {
   "cell_type": "code",
   "execution_count": 13,
   "metadata": {},
   "outputs": [
    {
     "data": {
      "text/plain": [
       "array([['Reference, Diagnostic', 'Diagnostic', 'Diagnostic',\n",
       "        'Diagnostic', 'Diagnostic', 'Diagnostic', 'Diagnostic',\n",
       "        'Reference, Diagnostic'],\n",
       "       ['Reference, Diagnostic', 'Diagnostic', 'Diagnostic',\n",
       "        'Diagnostic', 'Diagnostic', 'Diagnostic', 'Diagnostic',\n",
       "        'Reference, PositiveControl'],\n",
       "       ['Diagnostic', 'Diagnostic', 'Diagnostic', 'Diagnostic',\n",
       "        'Diagnostic', 'Diagnostic', 'Diagnostic', 'Diagnostic'],\n",
       "       ['Diagnostic', 'Diagnostic', 'Diagnostic', 'Diagnostic',\n",
       "        'Diagnostic', 'Diagnostic', 'Diagnostic', 'Diagnostic'],\n",
       "       ['Diagnostic', 'Diagnostic', 'Diagnostic', 'Diagnostic',\n",
       "        'Diagnostic', 'Diagnostic', 'Diagnostic',\n",
       "        'Reference, NegativeControl'],\n",
       "       ['Reference, Diagnostic', 'Diagnostic', 'Diagnostic',\n",
       "        'Diagnostic', 'Diagnostic', 'Diagnostic', 'Diagnostic',\n",
       "        'Reference, Diagnostic']], dtype='<U100')"
      ]
     },
     "execution_count": 13,
     "metadata": {},
     "output_type": "execute_result"
    }
   ],
   "source": [
    "xml_spot_array_numpy"
   ]
  },
  {
   "cell_type": "code",
   "execution_count": 9,
   "metadata": {
    "pycharm": {
     "is_executing": false,
     "name": "#%%\n"
    }
   },
   "outputs": [],
   "source": [
    "\n",
    "# walk through the replicates and assign the repl @id to the array\n",
    "# 1) iterate repl\n",
    "# 2) extract all_ids (not @id), extract antigen (@id)\n",
    "# 3) find cells that correspond to each in all_ids\n",
    "# 4) use the xml_spot_array_list_ID to assign by antigen to ID\n",
    "ids = xml_spot_array_numpy_ID\n",
    "anti = xml_spot_array_numpy_antigen\n",
    "\n",
    "for rep in repl:\n",
    "    antigen = rep['@id']\n",
    "    all_spots = rep['id'] # list of IDs\n",
    "    for spot in all_spots:\n",
    "        anti[np.where(ids==spot)] = antigen\n",
    "        \n",
    "xml_spot_array_numpy_antigen = anti"
   ]
  },
  {
   "cell_type": "code",
   "execution_count": 15,
   "metadata": {},
   "outputs": [
    {
     "data": {
      "text/plain": [
       "array([['', '114', '100', 'KZ52', 'c13C6', 'c2G4', 'c4G7', ''],\n",
       "       ['', '114', '100', 'KZ52', 'c13C6', 'c2G4', 'c4G7', ''],\n",
       "       ['anti-HIS tag', '15731', '15742', '15750', '15878', '15946',\n",
       "        '15960', 'Q411'],\n",
       "       ['anti-HIS tag', '15731', '15742', '15750', '15878', '15946',\n",
       "        '15960', 'Q411'],\n",
       "       ['anti-HIS tag', '15974', '16061', 'FVM04', 'VIC122', 'Q206',\n",
       "        'Q314', ''],\n",
       "       ['', '15974', '16061', 'FVM04', 'VIC122', 'Q206', 'Q314', '']],\n",
       "      dtype='<U100')"
      ]
     },
     "execution_count": 15,
     "metadata": {},
     "output_type": "execute_result"
    }
   ],
   "source": [
    "xml_spot_array_numpy_antigen"
   ]
  },
  {
   "cell_type": "code",
   "execution_count": 28,
   "metadata": {
    "pycharm": {
     "is_executing": false,
     "name": "#%%\n"
    }
   },
   "outputs": [
    {
     "data": {
      "text/plain": [
       "\"\\nThe above code should parse the two files (.gal, .xml) into two data formats:\\n.gal\\n    gal_spot_array_list_ID[r][c] = ID\\n    gal_spot_array_numpy_ID[r, c] = ID\\n    \\n    gal_spot_array_list_Name[r][c] = name\\n    gal_spot_array_numpy_Name[r, c] = name\\n    \\n.xml\\n    xml_spot_array_list[r][c] = spot type\\n    xml_spot_array_numpy[r,c] = spot type\\n    \\n    xml_spot_array_list_ID[r][c] = ID\\n    xml_spot_array_numpy_ID[r,c] = ID\\n    \\n    xml_spot_array_numpy_antigen = antigen\\n    \\nthe 'numpy' and 'list' forms are identical\\neach can be sliced and are indexed by row-column format\\neach has a value that is a simple string\\n\\nSo we can use the following three arrays to query control, ID name, and antigen name\\n\\n\""
      ]
     },
     "execution_count": 28,
     "metadata": {},
     "output_type": "execute_result"
    }
   ],
   "source": [
    "\"\"\"\n",
    "The above code should parse the two files (.gal, .xml) into two data formats:\n",
    ".gal\n",
    "    gal_spot_array_list_ID[r][c] = ID\n",
    "    gal_spot_array_numpy_ID[r, c] = ID\n",
    "    \n",
    "    gal_spot_array_list_Name[r][c] = name\n",
    "    gal_spot_array_numpy_Name[r, c] = name\n",
    "    \n",
    ".xml\n",
    "    xml_spot_array_list[r][c] = spot type\n",
    "    xml_spot_array_numpy[r,c] = spot type\n",
    "    \n",
    "    xml_spot_array_list_ID[r][c] = ID\n",
    "    xml_spot_array_numpy_ID[r,c] = ID\n",
    "    \n",
    "    xml_spot_array_numpy_antigen = antigen\n",
    "    \n",
    "the 'numpy' and 'list' forms are identical\n",
    "each can be sliced and are indexed by row-column format\n",
    "each has a value that is a simple string\n",
    "\n",
    "So we can use the following three arrays to query type, cell ID name, and antigen name\n",
    "    xml_spot_array_numpy\n",
    "    xml_spot_array_numpy_ID\n",
    "    xml_spot_array_numpy_antigen\n",
    "\n",
    "\"\"\""
   ]
  },
  {
   "cell_type": "code",
   "execution_count": 11,
   "metadata": {
    "pycharm": {
     "is_executing": false,
     "name": "#%%\n"
    }
   },
   "outputs": [
    {
     "data": {
      "text/plain": [
       "array([['', 'spot-1-2', 'spot-1-3', 'spot-1-4', 'spot-1-5', 'spot-1-6',\n",
       "        'spot-1-7', ''],\n",
       "       ['', 'spot-2-2', 'spot-2-3', 'spot-2-4', 'spot-2-5', 'spot-2-6',\n",
       "        'spot-2-7', 'spot-2-8'],\n",
       "       ['spot-3-1', 'spot-3-2', 'spot-3-3', 'spot-3-4', 'spot-3-5',\n",
       "        'spot-3-6', 'spot-3-7', 'spot-3-8'],\n",
       "       ['spot-4-1', 'spot-4-2', 'spot-4-3', 'spot-4-4', 'spot-4-5',\n",
       "        'spot-4-6', 'spot-4-7', 'spot-4-8'],\n",
       "       ['spot-5-1', 'spot-5-2', 'spot-5-3', 'spot-5-4', 'spot-5-5',\n",
       "        'spot-5-6', 'spot-5-7', 'spot-5-8'],\n",
       "       ['', 'spot-6-2', 'spot-6-3', 'spot-6-4', 'spot-6-5', 'spot-6-6',\n",
       "        'spot-6-7', '']], dtype='<U100')"
      ]
     },
     "execution_count": 11,
     "metadata": {},
     "output_type": "execute_result"
    }
   ],
   "source": [
    "ids"
   ]
  },
  {
   "cell_type": "code",
   "execution_count": 2,
   "metadata": {
    "pycharm": {
     "name": "#%%\n"
    }
   },
   "outputs": [
    {
     "ename": "NameError",
     "evalue": "name 'xml_spot_array_numpy_antigen' is not defined",
     "output_type": "error",
     "traceback": [
      "\u001b[0;31m---------------------------------------------------------------------------\u001b[0m",
      "\u001b[0;31mNameError\u001b[0m                                 Traceback (most recent call last)",
      "\u001b[0;32m<ipython-input-2-cf2845964f0d>\u001b[0m in \u001b[0;36m<module>\u001b[0;34m\u001b[0m\n\u001b[0;32m----> 1\u001b[0;31m \u001b[0mxml_spot_array_numpy_antigen\u001b[0m\u001b[0;34m.\u001b[0m\u001b[0mshape\u001b[0m\u001b[0;34m\u001b[0m\u001b[0;34m\u001b[0m\u001b[0m\n\u001b[0m",
      "\u001b[0;31mNameError\u001b[0m: name 'xml_spot_array_numpy_antigen' is not defined"
     ]
    }
   ],
   "source": [
    "xml_spot_array_numpy_antigen.shape\n"
   ]
  },
  {
   "cell_type": "code",
   "execution_count": 84,
   "metadata": {},
   "outputs": [],
   "source": [
    "xlsx_template = '/Volumes/GoogleDrive/My Drive/ELISAarrayReader/data_for_tests_and_github/Metadata_and_Plate_configuration.xlsx'"
   ]
  },
  {
   "cell_type": "code",
   "execution_count": 88,
   "metadata": {},
   "outputs": [],
   "source": [
    "# plate_info = pd.read_excel(xlsx_template, usecols='A:M', sheet_name=None)\n",
    "plate_info = pd.read_excel(xlsx_template, sheet_name=None)"
   ]
  },
  {
   "cell_type": "code",
   "execution_count": 89,
   "metadata": {},
   "outputs": [
    {
     "data": {
      "text/plain": [
       "dict_keys(['imaging_and_array_parameters', 'array_antigens', 'well_antibody_name', 'well_antibody_concentration', 'sample', 'sample_concentration'])"
      ]
     },
     "execution_count": 89,
     "metadata": {},
     "output_type": "execute_result"
    }
   ],
   "source": [
    "plate_info.keys()"
   ]
  },
  {
   "cell_type": "code",
   "execution_count": 90,
   "metadata": {},
   "outputs": [
    {
     "data": {
      "text/plain": [
       "Index(['Parameter', 'Value'], dtype='object')"
      ]
     },
     "execution_count": 90,
     "metadata": {},
     "output_type": "execute_result"
    }
   ],
   "source": [
    "plate_info['imaging_and_array_parameters'].keys()"
   ]
  },
  {
   "cell_type": "code",
   "execution_count": 101,
   "metadata": {},
   "outputs": [
    {
     "data": {
      "text/plain": [
       "0       pixel_size\n",
       "1              NaN\n",
       "2             rows\n",
       "3          columns\n",
       "4          v_pitch\n",
       "5          h_pitch\n",
       "6       spot_width\n",
       "7        bg_offset\n",
       "8     bg_thickness\n",
       "9         max_diam\n",
       "10        min_diam\n",
       "11      pixel_size\n",
       "Name: Parameter, dtype: object"
      ]
     },
     "execution_count": 101,
     "metadata": {},
     "output_type": "execute_result"
    }
   ],
   "source": [
    "plate_info['imaging_and_array_parameters']['Parameter']"
   ]
  },
  {
   "cell_type": "code",
   "execution_count": 97,
   "metadata": {},
   "outputs": [
    {
     "data": {
      "text/plain": [
       "0     0.0049\n",
       "1        NaN\n",
       "2     6.0000\n",
       "3     6.0000\n",
       "4     0.4100\n",
       "5     0.4050\n",
       "6     0.2000\n",
       "7     0.0500\n",
       "8     0.0500\n",
       "9     0.3000\n",
       "10    0.1000\n",
       "11    0.0049\n",
       "Name: Value, dtype: float64"
      ]
     },
     "execution_count": 97,
     "metadata": {},
     "output_type": "execute_result"
    }
   ],
   "source": [
    "plate_info['imaging_and_array_parameters']['Value']"
   ]
  },
  {
   "cell_type": "code",
   "execution_count": 103,
   "metadata": {},
   "outputs": [
    {
     "name": "stdout",
     "output_type": "stream",
     "text": [
      "key = pixel_size, \tval = 0.0049\n",
      "key = nan, \tval = nan\n",
      "key = rows, \tval = 6.0\n",
      "key = columns, \tval = 6.0\n",
      "key = v_pitch, \tval = 0.41\n",
      "key = h_pitch, \tval = 0.405\n",
      "key = spot_width, \tval = 0.2\n",
      "key = bg_offset, \tval = 0.05\n",
      "key = bg_thickness, \tval = 0.05\n",
      "key = max_diam, \tval = 0.3\n",
      "key = min_diam, \tval = 0.1\n",
      "key = pixel_size, \tval = 0.0049\n"
     ]
    }
   ],
   "source": [
    "for idx, value in enumerate(plate_info['imaging_and_array_parameters']['Parameter']):\n",
    "    print(f\"key = {value}, \\tval = {plate_info['imaging_and_array_parameters']['Value'][idx]}\")"
   ]
  },
  {
   "cell_type": "code",
   "execution_count": 105,
   "metadata": {},
   "outputs": [
    {
     "data": {
      "text/html": [
       "<div>\n",
       "<style scoped>\n",
       "    .dataframe tbody tr th:only-of-type {\n",
       "        vertical-align: middle;\n",
       "    }\n",
       "\n",
       "    .dataframe tbody tr th {\n",
       "        vertical-align: top;\n",
       "    }\n",
       "\n",
       "    .dataframe thead th {\n",
       "        text-align: right;\n",
       "    }\n",
       "</style>\n",
       "<table border=\"1\" class=\"dataframe\">\n",
       "  <thead>\n",
       "    <tr style=\"text-align: right;\">\n",
       "      <th></th>\n",
       "      <th>Unnamed: 0</th>\n",
       "      <th>0</th>\n",
       "      <th>1</th>\n",
       "      <th>2</th>\n",
       "      <th>3</th>\n",
       "      <th>4</th>\n",
       "      <th>5</th>\n",
       "    </tr>\n",
       "  </thead>\n",
       "  <tbody>\n",
       "    <tr>\n",
       "      <th>0</th>\n",
       "      <td>0</td>\n",
       "      <td>Fiducial</td>\n",
       "      <td>Flu vaccine 2018-2019</td>\n",
       "      <td>Flu vaccine 2018-2019</td>\n",
       "      <td>Flu vaccine 2018-2019</td>\n",
       "      <td>Flu vaccine 2018-2019</td>\n",
       "      <td>Fiducial</td>\n",
       "    </tr>\n",
       "    <tr>\n",
       "      <th>1</th>\n",
       "      <td>1</td>\n",
       "      <td>Fiducial</td>\n",
       "      <td>H1 HA</td>\n",
       "      <td>H1 HA</td>\n",
       "      <td>H1 HA</td>\n",
       "      <td>H1 HA</td>\n",
       "      <td>NaN</td>\n",
       "    </tr>\n",
       "    <tr>\n",
       "      <th>2</th>\n",
       "      <td>2</td>\n",
       "      <td>Positive Control</td>\n",
       "      <td>H3 HA</td>\n",
       "      <td>H3 HA</td>\n",
       "      <td>H3 HA</td>\n",
       "      <td>H3 HA</td>\n",
       "      <td>Negative Control</td>\n",
       "    </tr>\n",
       "    <tr>\n",
       "      <th>3</th>\n",
       "      <td>3</td>\n",
       "      <td>Positive Control</td>\n",
       "      <td>H7 HA</td>\n",
       "      <td>H7 HA</td>\n",
       "      <td>H7 HA</td>\n",
       "      <td>H7 HA</td>\n",
       "      <td>Negative Control</td>\n",
       "    </tr>\n",
       "    <tr>\n",
       "      <th>4</th>\n",
       "      <td>4</td>\n",
       "      <td>Positive Control</td>\n",
       "      <td>HA FluB I</td>\n",
       "      <td>HA FluB I</td>\n",
       "      <td>HA FluB I</td>\n",
       "      <td>HA FluB I</td>\n",
       "      <td>Negative Control</td>\n",
       "    </tr>\n",
       "    <tr>\n",
       "      <th>5</th>\n",
       "      <td>5</td>\n",
       "      <td>Fiducial</td>\n",
       "      <td>HA FluB II</td>\n",
       "      <td>HA FluB II</td>\n",
       "      <td>HA FluB II</td>\n",
       "      <td>HA FluB II</td>\n",
       "      <td>Fiducial</td>\n",
       "    </tr>\n",
       "  </tbody>\n",
       "</table>\n",
       "</div>"
      ],
      "text/plain": [
       "   Unnamed: 0                 0                      1                      2  \\\n",
       "0           0          Fiducial  Flu vaccine 2018-2019  Flu vaccine 2018-2019   \n",
       "1           1          Fiducial                  H1 HA                  H1 HA   \n",
       "2           2  Positive Control                  H3 HA                  H3 HA   \n",
       "3           3  Positive Control                  H7 HA                  H7 HA   \n",
       "4           4  Positive Control              HA FluB I              HA FluB I   \n",
       "5           5          Fiducial             HA FluB II             HA FluB II   \n",
       "\n",
       "                       3                      4                 5  \n",
       "0  Flu vaccine 2018-2019  Flu vaccine 2018-2019          Fiducial  \n",
       "1                  H1 HA                  H1 HA               NaN  \n",
       "2                  H3 HA                  H3 HA  Negative Control  \n",
       "3                  H7 HA                  H7 HA  Negative Control  \n",
       "4              HA FluB I              HA FluB I  Negative Control  \n",
       "5             HA FluB II             HA FluB II          Fiducial  "
      ]
     },
     "execution_count": 105,
     "metadata": {},
     "output_type": "execute_result"
    }
   ],
   "source": [
    "plate_info['array_antigens']"
   ]
  },
  {
   "cell_type": "code",
   "execution_count": 111,
   "metadata": {},
   "outputs": [
    {
     "name": "stdout",
     "output_type": "stream",
     "text": [
      "k: Unnamed: 0, \tv: 0\n",
      "k: 0, \tv: 1\n",
      "k: 1, \tv: 2\n",
      "k: 2, \tv: 3\n",
      "k: 3, \tv: 4\n",
      "k: 4, \tv: 5\n",
      "k: 5, \tv: 6\n"
     ]
    }
   ],
   "source": [
    "for idx, value in enumerate(plate_info['array_antigens'].keys()):\n",
    "    print(f\"k: {value}, \\tv: {idx}\")\n",
    "    "
   ]
  },
  {
   "cell_type": "code",
   "execution_count": 109,
   "metadata": {},
   "outputs": [
    {
     "data": {
      "text/plain": [
       "Index(['Unnamed: 0', 0, 1, 2, 3, 4, 5], dtype='object')"
      ]
     },
     "execution_count": 109,
     "metadata": {},
     "output_type": "execute_result"
    }
   ],
   "source": [
    "plate_info['array_antigens'].keys() # keys are first row (or column names)"
   ]
  },
  {
   "cell_type": "code",
   "execution_count": 113,
   "metadata": {},
   "outputs": [
    {
     "data": {
      "text/plain": [
       "0            Fiducial\n",
       "1            Fiducial\n",
       "2    Positive Control\n",
       "3    Positive Control\n",
       "4    Positive Control\n",
       "5            Fiducial\n",
       "Name: 0, dtype: object"
      ]
     },
     "execution_count": 113,
     "metadata": {},
     "output_type": "execute_result"
    }
   ],
   "source": [
    "plate_info['array_antigens'][0] # each key maps to a pd.Series"
   ]
  },
  {
   "cell_type": "code",
   "execution_count": 114,
   "metadata": {},
   "outputs": [
    {
     "name": "stdout",
     "output_type": "stream",
     "text": [
      "Fiducial\n",
      "Fiducial\n",
      "Positive Control\n",
      "Positive Control\n",
      "Positive Control\n",
      "Fiducial\n"
     ]
    }
   ],
   "source": [
    "for item in plate_info['array_antigens'][0]:\n",
    "    print(item)"
   ]
  },
  {
   "cell_type": "code",
   "execution_count": 122,
   "metadata": {},
   "outputs": [
    {
     "name": "stdout",
     "output_type": "stream",
     "text": [
      "0\n",
      "\t0\tFiducial\n",
      "\t1\tFiducial\n",
      "\t2\tPositive Control\n",
      "\t3\tPositive Control\n",
      "\t4\tPositive Control\n",
      "\t5\tFiducial\n",
      "1\n",
      "\t0\tFlu vaccine 2018-2019\n",
      "\t1\tH1 HA\n",
      "\t2\tH3 HA\n",
      "\t3\tH7 HA\n",
      "\t4\tHA FluB I\n",
      "\t5\tHA FluB II\n",
      "2\n",
      "\t0\tFlu vaccine 2018-2019\n",
      "\t1\tH1 HA\n",
      "\t2\tH3 HA\n",
      "\t3\tH7 HA\n",
      "\t4\tHA FluB I\n",
      "\t5\tHA FluB II\n",
      "3\n",
      "\t0\tFlu vaccine 2018-2019\n",
      "\t1\tH1 HA\n",
      "\t2\tH3 HA\n",
      "\t3\tH7 HA\n",
      "\t4\tHA FluB I\n",
      "\t5\tHA FluB II\n",
      "4\n",
      "\t0\tFlu vaccine 2018-2019\n",
      "\t1\tH1 HA\n",
      "\t2\tH3 HA\n",
      "\t3\tH7 HA\n",
      "\t4\tHA FluB I\n",
      "\t5\tHA FluB II\n",
      "5\n",
      "\t0\tFiducial\n",
      "\t1\tnan\n",
      "\t2\tNegative Control\n",
      "\t3\tNegative Control\n",
      "\t4\tNegative Control\n",
      "\t5\tFiducial\n"
     ]
    }
   ],
   "source": [
    "for col in plate_info['array_antigens'].keys()[1:]:\n",
    "    print(col)\n",
    "    for row, value in enumerate(plate_info['array_antigens'][col]):\n",
    "        print(f\"\\t{row}\\t{value}\")\n"
   ]
  },
  {
   "cell_type": "code",
   "execution_count": 4,
   "metadata": {},
   "outputs": [],
   "source": [
    "\"\"\"\n",
    "writing dict to xml\n",
    "\"\"\"\n",
    "import os\n",
    "import xmltodict\n",
    "\n",
    "temp_dir = '/Users/bryant.chhun/Desktop/Data/array-imager'\n",
    "\n",
    "\n",
    "fiducials = [{'@row': 0,\n",
    "              '@col': 0,\n",
    "              '@spot_type': 'Reference, Diagnostic'}\n",
    "             ]\n",
    "spots = [{'@row': 0,\n",
    "          '@col': 1,\n",
    "          '@id': 'spot-1-2',\n",
    "          'spot_type': 'Diagnostic'},\n",
    "         {'@row': 1,\n",
    "          '@col': 2,\n",
    "          '@id': 'spot-2-3',\n",
    "          'spot_type': 'Diagnostic'}\n",
    "         ]\n",
    "repl = [{'@row': 0,\n",
    "         '@col': 1,\n",
    "         '@id': 'H1 HA',\n",
    "         'id': ['spot-1-2', 'spot-2-3']}\n",
    "        ]\n",
    "params = {'@rows': None,\n",
    "          '@cols': None,\n",
    "          '@vspace': None,\n",
    "          '@hspace': None,\n",
    "          '@expected_diameter': None,\n",
    "          '@background_offset': None,\n",
    "          '@background_thickness': None,\n",
    "          '@max_diameter': None,\n",
    "          '@min_diameter': None,\n",
    "          }\n",
    "\n",
    "doc = {'configuration': {'well_configurations': {'configuration': {'array': {}}}}}\n",
    "# set the hardware parameters\n",
    "doc['configuration']['well_configurations']['configuration']['array']['layout'] = params\n",
    "\n",
    "# set the fiducials\n",
    "doc['configuration']['well_configurations']['configuration']['array']['layout']['marker'] = fiducials\n",
    "\n",
    "# set the spot IDs\n",
    "doc['configuration']['well_configurations']['configuration']['array']['spots'] = {}\n",
    "doc['configuration']['well_configurations']['configuration']['array']['spots']['spot'] = spots\n",
    "\n",
    "# set the number of replicates\n",
    "doc['configuration']['well_configurations']['configuration']['array']['spots']['multiplet'] = repl\n",
    "\n",
    "with open(os.path.join(temp_dir, 'temp.xml'), 'w', encoding='utf-8') as temp_xml:\n",
    "    temp_xml.write(xmltodict.unparse(doc))"
   ]
  },
  {
   "cell_type": "code",
   "execution_count": 120,
   "metadata": {},
   "outputs": [],
   "source": [
    "\"\"\"\n",
    "using pandas to make xlsx\n",
    "\"\"\"\n",
    "import pandas as pd\n",
    "\n",
    "mydict = {'':'',\n",
    "          'rows':'6',\n",
    "          'columns':'6',\n",
    "          'v_pitch':'0.4',\n",
    "          'h_pitch':'0.45',\n",
    "          'spot_width':'0.2',\n",
    "          'pixel_size':'0.0049'\n",
    "         }"
   ]
  },
  {
   "cell_type": "code",
   "execution_count": 53,
   "metadata": {},
   "outputs": [
    {
     "data": {
      "text/plain": [
       "pandas.core.frame.DataFrame"
      ]
     },
     "execution_count": 53,
     "metadata": {},
     "output_type": "execute_result"
    }
   ],
   "source": [
    "truth = '/Volumes/GoogleDrive/My Drive/ELISAarrayReader/images_scienion/2020-04-04-14-18-32-COVID_April4_flusecondplate/Metadata_and_Plate_configuration.xlsx'\n",
    "d = pd.read_excel(truth)"
   ]
  },
  {
   "cell_type": "code",
   "execution_count": 51,
   "metadata": {},
   "outputs": [
    {
     "data": {
      "text/plain": [
       "(0       pixel_size\n",
       " 1              NaN\n",
       " 2             rows\n",
       " 3          columns\n",
       " 4          v_pitch\n",
       " 5          h_pitch\n",
       " 6       spot_width\n",
       " 7        bg_offset\n",
       " 8     bg_thickness\n",
       " 9         max_diam\n",
       " 10        min_diam\n",
       " 11      pixel_size\n",
       " Name: Parameter, dtype: object,\n",
       " 0     0.0049\n",
       " 1        NaN\n",
       " 2     6.0000\n",
       " 3     6.0000\n",
       " 4     0.4100\n",
       " 5     0.4050\n",
       " 6     0.2000\n",
       " 7     0.0500\n",
       " 8     0.0500\n",
       " 9     0.3000\n",
       " 10    0.1000\n",
       " 11    0.0049\n",
       " Name: Value, dtype: float64)"
      ]
     },
     "execution_count": 51,
     "metadata": {},
     "output_type": "execute_result"
    }
   ],
   "source": [
    "d['Parameter'], d['Value']"
   ]
  },
  {
   "cell_type": "code",
   "execution_count": 123,
   "metadata": {},
   "outputs": [
    {
     "data": {
      "text/plain": [
       "{'': '',\n",
       " 'rows': '6',\n",
       " 'columns': '6',\n",
       " 'v_pitch': '0.4',\n",
       " 'h_pitch': '0.45',\n",
       " 'spot_width': '0.2',\n",
       " 'pixel_size': '0.0049'}"
      ]
     },
     "execution_count": 123,
     "metadata": {},
     "output_type": "execute_result"
    }
   ],
   "source": [
    "mydict"
   ]
  },
  {
   "cell_type": "code",
   "execution_count": null,
   "metadata": {},
   "outputs": [],
   "source": []
  },
  {
   "cell_type": "code",
   "execution_count": 124,
   "metadata": {},
   "outputs": [],
   "source": [
    "keys = dict()\n",
    "vals = dict()\n",
    "for idx, value in enumerate(mydict.keys()):\n",
    "    keys[idx] = value\n",
    "for idx, value in enumerate(mydict.values()):\n",
    "    vals[idx] = value\n",
    "b = pd.Series(keys, name=\"Parameter\")\n",
    "c = pd.Series(vals, name=\"Value\")"
   ]
  },
  {
   "cell_type": "code",
   "execution_count": 125,
   "metadata": {},
   "outputs": [
    {
     "data": {
      "text/plain": [
       "(0              \n",
       " 1          rows\n",
       " 2       columns\n",
       " 3       v_pitch\n",
       " 4       h_pitch\n",
       " 5    spot_width\n",
       " 6    pixel_size\n",
       " Name: Parameter, dtype: object,\n",
       " 0          \n",
       " 1         6\n",
       " 2         6\n",
       " 3       0.4\n",
       " 4      0.45\n",
       " 5       0.2\n",
       " 6    0.0049\n",
       " Name: Value, dtype: object)"
      ]
     },
     "execution_count": 125,
     "metadata": {},
     "output_type": "execute_result"
    }
   ],
   "source": [
    "b, c"
   ]
  },
  {
   "cell_type": "code",
   "execution_count": 126,
   "metadata": {},
   "outputs": [],
   "source": [
    "# mydict"
   ]
  },
  {
   "cell_type": "code",
   "execution_count": 112,
   "metadata": {},
   "outputs": [],
   "source": [
    "# path = '/Users/bryant.chhun/Desktop/Data/array-imager/fname.xlsx'\n",
    "# df = pd.DataFrame(mydict, index=[0]).T\n",
    "# df.to_excel(path, index=False)"
   ]
  },
  {
   "cell_type": "code",
   "execution_count": 127,
   "metadata": {},
   "outputs": [],
   "source": [
    "# mydict2 = {'Parameter':['Value'],\n",
    "#           '':'',\n",
    "#           'rows':['6'],\n",
    "#           'columns':['6'],\n",
    "#           'v_pitch':['0.4'],\n",
    "#           'h_pitch':['0.45'],\n",
    "#           'spot_width':['0.2'],\n",
    "#           'pixel_size':['0.0049']\n",
    "#          }\n",
    "d = [b, c]"
   ]
  },
  {
   "cell_type": "code",
   "execution_count": 128,
   "metadata": {},
   "outputs": [],
   "source": [
    "path = '/Users/bryant.chhun/Desktop/Data/array-imager/fname.xlsx'\n",
    "df = pd.DataFrame(d).T"
   ]
  },
  {
   "cell_type": "code",
   "execution_count": 129,
   "metadata": {},
   "outputs": [
    {
     "data": {
      "text/html": [
       "<div>\n",
       "<style scoped>\n",
       "    .dataframe tbody tr th:only-of-type {\n",
       "        vertical-align: middle;\n",
       "    }\n",
       "\n",
       "    .dataframe tbody tr th {\n",
       "        vertical-align: top;\n",
       "    }\n",
       "\n",
       "    .dataframe thead th {\n",
       "        text-align: right;\n",
       "    }\n",
       "</style>\n",
       "<table border=\"1\" class=\"dataframe\">\n",
       "  <thead>\n",
       "    <tr style=\"text-align: right;\">\n",
       "      <th></th>\n",
       "      <th>Parameter</th>\n",
       "      <th>Value</th>\n",
       "    </tr>\n",
       "  </thead>\n",
       "  <tbody>\n",
       "    <tr>\n",
       "      <th>0</th>\n",
       "      <td></td>\n",
       "      <td></td>\n",
       "    </tr>\n",
       "    <tr>\n",
       "      <th>1</th>\n",
       "      <td>rows</td>\n",
       "      <td>6</td>\n",
       "    </tr>\n",
       "    <tr>\n",
       "      <th>2</th>\n",
       "      <td>columns</td>\n",
       "      <td>6</td>\n",
       "    </tr>\n",
       "    <tr>\n",
       "      <th>3</th>\n",
       "      <td>v_pitch</td>\n",
       "      <td>0.4</td>\n",
       "    </tr>\n",
       "    <tr>\n",
       "      <th>4</th>\n",
       "      <td>h_pitch</td>\n",
       "      <td>0.45</td>\n",
       "    </tr>\n",
       "    <tr>\n",
       "      <th>5</th>\n",
       "      <td>spot_width</td>\n",
       "      <td>0.2</td>\n",
       "    </tr>\n",
       "    <tr>\n",
       "      <th>6</th>\n",
       "      <td>pixel_size</td>\n",
       "      <td>0.0049</td>\n",
       "    </tr>\n",
       "  </tbody>\n",
       "</table>\n",
       "</div>"
      ],
      "text/plain": [
       "    Parameter   Value\n",
       "0                    \n",
       "1        rows       6\n",
       "2     columns       6\n",
       "3     v_pitch     0.4\n",
       "4     h_pitch    0.45\n",
       "5  spot_width     0.2\n",
       "6  pixel_size  0.0049"
      ]
     },
     "execution_count": 129,
     "metadata": {},
     "output_type": "execute_result"
    }
   ],
   "source": [
    "df"
   ]
  },
  {
   "cell_type": "code",
   "execution_count": 130,
   "metadata": {},
   "outputs": [],
   "source": [
    "df.to_excel(path, index=False)"
   ]
  },
  {
   "cell_type": "code",
   "execution_count": 108,
   "metadata": {},
   "outputs": [],
   "source": [
    "m = pd.read_excel(path)"
   ]
  },
  {
   "cell_type": "code",
   "execution_count": 109,
   "metadata": {},
   "outputs": [
    {
     "data": {
      "text/html": [
       "<div>\n",
       "<style scoped>\n",
       "    .dataframe tbody tr th:only-of-type {\n",
       "        vertical-align: middle;\n",
       "    }\n",
       "\n",
       "    .dataframe tbody tr th {\n",
       "        vertical-align: top;\n",
       "    }\n",
       "\n",
       "    .dataframe thead th {\n",
       "        text-align: right;\n",
       "    }\n",
       "</style>\n",
       "<table border=\"1\" class=\"dataframe\">\n",
       "  <thead>\n",
       "    <tr style=\"text-align: right;\">\n",
       "      <th></th>\n",
       "      <th>Parameter</th>\n",
       "      <th>Value</th>\n",
       "    </tr>\n",
       "  </thead>\n",
       "  <tbody>\n",
       "    <tr>\n",
       "      <th>0</th>\n",
       "      <td>Parameter</td>\n",
       "      <td>Value</td>\n",
       "    </tr>\n",
       "    <tr>\n",
       "      <th>1</th>\n",
       "      <td>NaN</td>\n",
       "      <td>NaN</td>\n",
       "    </tr>\n",
       "    <tr>\n",
       "      <th>2</th>\n",
       "      <td>rows</td>\n",
       "      <td>6</td>\n",
       "    </tr>\n",
       "    <tr>\n",
       "      <th>3</th>\n",
       "      <td>columns</td>\n",
       "      <td>6</td>\n",
       "    </tr>\n",
       "    <tr>\n",
       "      <th>4</th>\n",
       "      <td>v_pitch</td>\n",
       "      <td>0.4</td>\n",
       "    </tr>\n",
       "    <tr>\n",
       "      <th>5</th>\n",
       "      <td>h_pitch</td>\n",
       "      <td>0.45</td>\n",
       "    </tr>\n",
       "    <tr>\n",
       "      <th>6</th>\n",
       "      <td>spot_width</td>\n",
       "      <td>0.2</td>\n",
       "    </tr>\n",
       "    <tr>\n",
       "      <th>7</th>\n",
       "      <td>pixel_size</td>\n",
       "      <td>0.0049</td>\n",
       "    </tr>\n",
       "  </tbody>\n",
       "</table>\n",
       "</div>"
      ],
      "text/plain": [
       "    Parameter   Value\n",
       "0   Parameter   Value\n",
       "1         NaN     NaN\n",
       "2        rows       6\n",
       "3     columns       6\n",
       "4     v_pitch     0.4\n",
       "5     h_pitch    0.45\n",
       "6  spot_width     0.2\n",
       "7  pixel_size  0.0049"
      ]
     },
     "execution_count": 109,
     "metadata": {},
     "output_type": "execute_result"
    }
   ],
   "source": [
    "m"
   ]
  },
  {
   "cell_type": "code",
   "execution_count": 131,
   "metadata": {},
   "outputs": [],
   "source": [
    "antigens = {0:{0:'Fiducial', 1:'Flu vaccine 2018-2019', 2:'Flu vaccine 2018-2019', 3:'Flu vaccine 2018-2019', 4:'Flu vaccine 2018-2019', 5:'Fiducial'},\n",
    "            1:{0:'Fiducial', 1:'H1 HA', 2:'H1 HA', 3:'H1 HA', 4:'H1 HA', 5:''},\n",
    "            2:{0:'Positive Control', 1:'H3 HA', 2:'H3 HA', 3:'H3 HA', 4:'H3 HA', 5:'Negative Control'},\n",
    "            3:{0:'Positive Control', 1:'H7 HA', 2:'H7 HA', 3:'H7 HA', 4:'H7 HA', 5:'Negative Control'},\n",
    "            4:{0:'Positive Control', 1:'HA FluB I', 2:'HA FluB I', 3:'HA FluB I', 4:'HA FluB I', 5:'Negative Control'},\n",
    "            5:{0:'Fiducial', 1:'HA FluB II', 2:'HA FluB II', 3:'HA FluB II', 4:'HA FluB II', 5:'Fiducial'}\n",
    "           }\n"
   ]
  },
  {
   "cell_type": "code",
   "execution_count": 132,
   "metadata": {},
   "outputs": [],
   "source": [
    "df2 = pd.DataFrame(antigens).T\n",
    "df2.to_excel(path)"
   ]
  },
  {
   "cell_type": "code",
   "execution_count": null,
   "metadata": {},
   "outputs": [],
   "source": []
  }
 ],
 "metadata": {
  "kernelspec": {
   "display_name": "Python 3",
   "language": "python",
   "name": "python3"
  },
  "language_info": {
   "codemirror_mode": {
    "name": "ipython",
    "version": 3
   },
   "file_extension": ".py",
   "mimetype": "text/x-python",
   "name": "python",
   "nbconvert_exporter": "python",
   "pygments_lexer": "ipython3",
   "version": "3.7.6"
  },
  "pycharm": {
   "stem_cell": {
    "cell_type": "raw",
    "metadata": {
     "collapsed": false
    },
    "source": []
   }
  }
 },
 "nbformat": 4,
 "nbformat_minor": 1
}
